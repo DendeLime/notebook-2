{
 "cells": [
  {
   "cell_type": "markdown",
   "metadata": {},
   "source": [
    "# CS 39AA - Notebook 2: A Simple Perceptron Model\n",
    "\n",
    "### Objectives of this Notebook\n",
    "* Quick intro/review of logistic regression\n",
    "* Implement/experiment with a toy example of a perceptron\n",
    "* Understand how perceptron is related to logistic regression\n",
    "* See gradient descent implemented with numpy and PyTorch\n",
    "* Implement a basic model w/ PyTorch\n",
    "\n",
    "\n",
    "## I. Logistic Regression\n",
    "\n",
    "### 1: Generate data\n",
    "Import necessary modules and generate synthetic data with appropriate size/dimensions. \n"
   ]
  },
  {
   "cell_type": "code",
   "execution_count": 1,
   "metadata": {},
   "outputs": [],
   "source": [
    "import random\n",
    "import numpy as np\n",
    "import pandas as pd\n",
    "import matplotlib.pyplot as plt\n",
    "import seaborn as sns\n",
    "\n",
    "N = 100 # total number of observations\n",
    "D_in = 1 # input dimension (i.e. dimension of a single observation's x vector)\n",
    "D_out = 1 # output dimension (i.e. y), so just 1 for this example\n",
    "\n",
    "# Create random input data and derive the 'true' labels/output\n",
    "x = np.random.randn(N, D_in) + 1 \n",
    "def true_y(x_in, n_obs):\n",
    "    def addNoise(x):\n",
    "        if abs(x-1) < 0.1:\n",
    "            return 0.1\n",
    "        elif abs(x-1) < 1.0:\n",
    "            return 0.02\n",
    "        else:\n",
    "            return 0.01\n",
    "\n",
    "    return np.apply_along_axis(lambda x: [int(x < 1) if random.random() < addNoise(x) else int(x > 1)], 1, x_in)\n",
    "    \n",
    "y = true_y(x, N).flatten()"
   ]
  },
  {
   "cell_type": "markdown",
   "metadata": {},
   "source": [
    "Plot the generated data to see x and y. Note that the y outcomes/labels belong to one of two classes. \n",
    "\n",
    "Positive cases are shown in blue while negative cases are in red. "
   ]
  },
  {
   "cell_type": "code",
   "execution_count": 2,
   "metadata": {},
   "outputs": [
    {
     "data": {
      "image/png": "[encoded data removed]",
      "text/plain": [
       "<Figure size 432x288 with 1 Axes>"
      ]
     },
     "metadata": {
      "needs_background": "light"
     },
     "output_type": "display_data"
    }
   ],
   "source": [
    "plt.scatter(x[y == 1,0], y[y == 1], c='blue', alpha=0.4)\n",
    "plt.scatter(x[y == 0,0], y[y == 0], c='red', alpha=0.4)\n",
    "plt.xlabel(\"x\")\n",
    "plt.ylabel(\"y\")\n",
    "plt.legend(('positive cases', 'negative cases'), loc='upper left')\n",
    "plt.show()"
   ]
  },
  {
   "cell_type": "markdown",
   "metadata": {},
   "source": [
    "### 2. Fit Logistic Regression Model\n",
    "\n",
    "Let's find estimates for b0 and b1 using a traditional logistic regression model in order to predict/estimate the probability that y is in the positive or negative class for any given x. The function used to isolate the linear function of x is the logit function, defined as: \n",
    "\n",
    "* $\\mathrm{logit}(y_i) = \\beta_0 + \\beta_1*x_i$\n",
    "\n",
    "for $i = 1, ... N$."
   ]
  },
  {
   "cell_type": "code",
   "execution_count": 3,
   "metadata": {},
   "outputs": [
    {
     "name": "stdout",
     "output_type": "stream",
     "text": [
      " beta0 = -2.4625\n",
      " beta1 = 2.4823\n",
      " loss (mse) = 0.0690\n"
     ]
    }
   ],
   "source": [
    "from sklearn.linear_model import LogisticRegression\n",
    "logreg_model = LogisticRegression(random_state=1, max_iter=100, tol=1e-4, solver='liblinear')\n",
    "logreg_model.fit(x, y)\n",
    "\n",
    "print(f\" beta0 = {logreg_model.intercept_[0]:.4f}\")\n",
    "print(f\" beta1 = {logreg_model.coef_[0][0]:.4f}\")\n",
    "y_pred = logreg_model.predict_proba(x)\n",
    "lr_loss = 1/N * np.square(y - y_pred[:,1]).sum()\n",
    "print(f\" loss (mse) = {lr_loss:.4f}\")"
   ]
  },
  {
   "cell_type": "code",
   "execution_count": 4,
   "metadata": {
    "scrolled": true
   },
   "outputs": [
    {
     "name": "stdout",
     "output_type": "stream",
     "text": [
      " beta0 = -3.2061\n",
      " beta1 = 3.0433\n",
      " loss (mse) = 0.0572\n"
     ]
    }
   ],
   "source": [
    "from sklearn.linear_model import LogisticRegression\n",
    "logreg_model = LogisticRegression(random_state=1, max_iter=100, tol=1e-4, solver='sag')\n",
    "logreg_model.fit(x, y)\n",
    "\n",
    "print(f\" beta0 = {logreg_model.intercept_[0]:.4f}\")\n",
    "print(f\" beta1 = {logreg_model.coef_[0][0]:.4f}\")\n",
    "y_pred = logreg_model.predict_proba(x)\n",
    "lr_loss = 1/N * np.square(y - y_pred[:,1]).sum()\n",
    "print(f\" loss (mse) = {lr_loss:.4f}\")"
   ]
  },
  {
   "cell_type": "code",
   "execution_count": 5,
   "metadata": {},
   "outputs": [
    {
     "name": "stdout",
     "output_type": "stream",
     "text": [
      " beta0 = -3.2046\n",
      " beta1 = 3.0421\n",
      " loss (mse) = 0.0573\n"
     ]
    }
   ],
   "source": [
    "from sklearn.linear_model import LogisticRegression\n",
    "logreg_model = LogisticRegression(random_state=1, max_iter=100, tol=1e-4, solver='saga')\n",
    "logreg_model.fit(x, y)\n",
    "\n",
    "print(f\" beta0 = {logreg_model.intercept_[0]:.4f}\")\n",
    "print(f\" beta1 = {logreg_model.coef_[0][0]:.4f}\")\n",
    "y_pred = logreg_model.predict_proba(x)\n",
    "lr_loss = 1/N * np.square(y - y_pred[:,1]).sum()\n",
    "print(f\" loss (mse) = {lr_loss:.4f}\")"
   ]
  },
  {
   "cell_type": "code",
   "execution_count": 9,
   "metadata": {},
   "outputs": [
    {
     "name": "stdout",
     "output_type": "stream",
     "text": [
      " beta0 = -3.2061\n",
      " beta1 = 3.0433\n",
      " loss (mse) = 0.0572\n"
     ]
    }
   ],
   "source": [
    "from sklearn.linear_model import LogisticRegression\n",
    "logreg_model = LogisticRegression(random_state=1, max_iter=100, tol=1e-4, solver='newton-cg')\n",
    "logreg_model.fit(x, y)\n",
    "\n",
    "print(f\" beta0 = {logreg_model.intercept_[0]:.4f}\")\n",
    "print(f\" beta1 = {logreg_model.coef_[0][0]:.4f}\")\n",
    "y_pred = logreg_model.predict_proba(x)\n",
    "lr_loss = 1/N * np.square(y - y_pred[:,1]).sum()\n",
    "print(f\" loss (mse) = {lr_loss:.4f}\")"
   ]
  },
  {
   "cell_type": "code",
   "execution_count": 7,
   "metadata": {},
   "outputs": [
    {
     "name": "stdout",
     "output_type": "stream",
     "text": [
      " beta0 = -3.2061\n",
      " beta1 = 3.0434\n",
      " loss (mse) = 0.0572\n"
     ]
    }
   ],
   "source": [
    "from sklearn.linear_model import LogisticRegression\n",
    "logreg_model = LogisticRegression(random_state=1, max_iter=100, tol=1e-4, solver='lbfgs')\n",
    "logreg_model.fit(x, y)\n",
    "\n",
    "print(f\" beta0 = {logreg_model.intercept_[0]:.4f}\")\n",
    "print(f\" beta1 = {logreg_model.coef_[0][0]:.4f}\")\n",
    "y_pred = logreg_model.predict_proba(x)\n",
    "lr_loss = 1/N * np.square(y - y_pred[:,1]).sum()\n",
    "print(f\" loss (mse) = {lr_loss:.4f}\")"
   ]
  },
  {
   "cell_type": "markdown",
   "metadata": {},
   "source": [
    "### TASK 1\n",
    "\n",
    "liblinear had the biggest lost while the rest was realtivly the same. Beta and Beta1 was a more noticble change between each type of logistic regression. Between lbfgs, newton-cg, and sag that had the smallest loss, I think sag would be the best choice if there where more data added or between multiclass problems."
   ]
  },
  {
   "cell_type": "markdown",
   "metadata": {},
   "source": [
    "To find those estimates scikit learn's LogisticRegression model solved an optimization problem. The optimization was to minimize the loss function, defined as:\n",
    "\n",
    "$\\mathrm{Loss} = \\frac{1}{N} \\sum_i^N (y_i - \\hat{y}_i)^2$\n",
    "\n",
    "For $\\hat{y}_i$ we will use the inverse of the logit (i.e. the logistic function, which itself is a generalization of the sigmoid function). \n",
    "\n",
    "$\\hat{y}_i = (1 + e^{-\\beta_1*x_i - \\beta_0})^{-1}$\n",
    "\n",
    "Note that the loss can be written as a function of $\\beta_0$, $\\beta_1$. Thus, estimating these parameters is done by minimizing the loss function with respect to $\\beta_0$, $\\beta_1$.\n",
    "\n",
    "Let's now plot the surface of the loss function with $beta_0$ and $beta_1$ on the x and y axes, respectively. \n",
    "\n",
    "Notice that there are many values of $beta_0$, $\\beta_1$ that may yield a reasonable minimum value. In other words, there is no single point on the surface displayed here where the loss has an obvivous global minimum. "
   ]
  },
  {
   "cell_type": "code",
   "execution_count": 10,
   "metadata": {},
   "outputs": [
    {
     "data": {
      "image/png": "[encoded data removed]",
      "text/plain": [
       "<Figure size 432x288 with 2 Axes>"
      ]
     },
     "metadata": {
      "needs_background": "light"
     },
     "output_type": "display_data"
    }
   ],
   "source": [
    "b1s = np.arange(6, -4.1, -0.5)\n",
    "b0s = np.arange(-6, 4.1, 0.5)\n",
    "surf = np.array( [[1/N * np.square(y - 1 / (1 + np.exp(-1 * (b1s[i]*x[:,0] + b0s[j])))).sum() for j in range(len(b0s))] for i in range(len(b1s))] )\n",
    "df = pd.DataFrame(surf, columns=b0s, index=b1s)\n",
    "p1 = sns.heatmap(df, cbar_kws={'label': 'loss'}, cmap=\"RdYlGn_r\")\n",
    "plt.xlabel(\"beta0\")\n",
    "plt.ylabel(\"beta1\")\n",
    "plt.show()"
   ]
  },
  {
   "cell_type": "markdown",
   "metadata": {},
   "source": [
    "### 3: Predict y for a Newly Observed x\n",
    "\n",
    "Try plotting the logistic function for a few values of $\\beta_0$, $\\beta_1$ on top of the data to see if it is a reasonable fit. \n",
    "\n",
    "Note a final step we have not yet described is to determine the threshold of the logistic function for which we will predict a positive or negative case. \n",
    "\n",
    "For example, for $\\beta_0 = \\beta_1 = 3$, if we are given a new observation with $x = 1.5$, and we need to predict whether it is a positive or negative case, then we start by evaluating the logistic function at $x = 1.5$. This yields $\\hat{y} = 0.8176$ (see below). \n",
    "\n",
    "Oftentimes a threshold of 0.5 is employed. Since 0.8176 > 0.5, we would predict this to be a positive case for the typical threshold value. "
   ]
  },
  {
   "cell_type": "code",
   "execution_count": 11,
   "metadata": {},
   "outputs": [
    {
     "data": {
      "image/png": "[encoded data removed]",
      "text/plain": [
       "<Figure size 432x288 with 1 Axes>"
      ]
     },
     "metadata": {
      "needs_background": "light"
     },
     "output_type": "display_data"
    },
    {
     "data": {
      "text/plain": [
       "0.8698915256370021"
      ]
     },
     "execution_count": 11,
     "metadata": {},
     "output_type": "execute_result"
    }
   ],
   "source": [
    "b0 = -2.3\n",
    "b1 = 2.8\n",
    "\n",
    "plt.scatter(x[y == 1,0], y[y == 1], c='blue', alpha=0.4)\n",
    "plt.scatter(x[y == 0,0], y[y == 0], c='red', alpha=0.4)\n",
    "plt.xlabel(\"x\")\n",
    "plt.ylabel(\"y\")\n",
    "\n",
    "x_new = 1.5\n",
    "y_hat_new = 1 / (1 + np.exp(-b0 - b1*x_new))\n",
    "plt.scatter(x_new, y_hat_new, color=\"green\")\n",
    "plt.legend(('positive cases', 'negative cases', 'new prediction'), loc='upper left')\n",
    "\n",
    "xes = np.arange(-4, 4, 0.2)\n",
    "plt.plot(xes, 1/(1 + np.exp(-b0 - b1*xes)), 'k--')\n",
    "\n",
    "plt.show()\n",
    "y_hat_new\n"
   ]
  },
  {
   "cell_type": "markdown",
   "metadata": {},
   "source": [
    "## II. A Simple Perceptron\n",
    "\n",
    "\n",
    "### 1. Simple Perceptron w/ NumPy\n",
    "\n",
    "Using the same $x$ and $y$ data as before we will now see how a simple perceptron network with a sigmoid activiation function is equivalent to the logistic regression model above. Rather than $\\beta_0$, $\\beta_1$, the parameters to be estimated are generally referred to as the weight and bias terms ($w$ and $b$, respectively). For this simple case they differ only in name though, such that:\n",
    "* $\\beta_0 = b$\n",
    "* $\\beta_1 = w$\n",
    "\n",
    "To begin we will manually train the perceptron using numpy and gradient descent to minimize the loss. This will involve taking the derivatives of $w$ and $b$ (using the chain rule) to calculate the gradients in an interative process. \n"
   ]
  },
  {
   "cell_type": "code",
   "execution_count": 33,
   "metadata": {},
   "outputs": [
    {
     "name": "stdout",
     "output_type": "stream",
     "text": [
      "iteration 0: loss = 0.1931, w = 0.4967, b = -0.1383\n",
      "iteration 50: loss = 0.1089, w = 1.3475, b = -1.2587\n",
      "iteration 100: loss = 0.0867, w = 1.8411, b = -1.8133\n",
      "iteration 150: loss = 0.0754, w = 2.1985, b = -2.2046\n",
      "iteration 200: loss = 0.0683, w = 2.4841, b = -2.5143\n",
      " w = 2.7245\n",
      " b = -2.7740\n"
     ]
    }
   ],
   "source": [
    "# Randomly initialize parameters to be estimated\n",
    "np.random.seed(42)\n",
    "w = np.random.randn(1)\n",
    "b = np.random.randn(1)\n",
    "\n",
    "# learning rate parameter\n",
    "learning_rate = 5e-1\n",
    "\n",
    "# keep track of loss to see how the optimization performs\n",
    "loss = []\n",
    "\n",
    "# Begin gradient descent using all of the observations in each iteration\n",
    "for i in range(250):\n",
    "\n",
    "    # Forward pass: compute predicted y\n",
    "    lin_pred = w[0] * x[:,0] + b[0]\n",
    "    y_pred = 1 / (1 + np.exp(-1 * lin_pred)) \n",
    "\n",
    "    # Compute and store loss, and print occassionally\n",
    "    loss.append(1/N * np.square(y - y_pred).sum())\n",
    "    if i % 50 == 0:\n",
    "        print(f\"iteration {i}: loss = {loss[i]:.4f}, w = {w[0]:.4f}, b = {b[0]:.4f}\")\n",
    "\n",
    "    # Backprop to compute gradients of w and b with respect to log loss\n",
    "    dloss_dypred = -2.0 / N * (y - y_pred)\n",
    "    dypred_dlinpred = np.exp(-lin_pred) * (1 / np.square(1 + np.exp(-1 * lin_pred)))\n",
    "    dlinpred_dw = x[:,0]\n",
    "    dlinpred_db = 1\n",
    "\n",
    "    # Backprop to compute gradients of w and b with respect to loss and being careful not to sum up intermediate parts\n",
    "    #grad_w = -2 / N * (y - 1 / (1 + np.exp(-1 * lin_pred))) * (1 / np.square(1 + np.exp(-1 * lin_pred))) * x[:,0] * np.exp(-lin_pred) \n",
    "    #grad_b = -2 / N * (y - 1 / (1 + np.exp(-1 * lin_pred))) * (1 / np.square(1 + np.exp(-1 * lin_pred))) * np.exp(-lin_pred) \n",
    "\n",
    "    # Calculate gradients and update weight and bias parameters \n",
    "    grad_w = (dloss_dypred * dypred_dlinpred * dlinpred_dw).sum()\n",
    "    grad_b = (dloss_dypred * dypred_dlinpred * dlinpred_db).sum()\n",
    "    w -= learning_rate * grad_w\n",
    "    b -= learning_rate * grad_b\n",
    "\n",
    "print(f\" w = {w.item():.4f}\")\n",
    "print(f\" b = {b.item():.4f}\")"
   ]
  },
  {
   "cell_type": "markdown",
   "metadata": {},
   "source": [
    "### TASK 2\n",
    "\n",
    "WHAT ARE THE SHAPE AND DIMENSIONS OF DLOSS_DYPRED, DYPRED_DLINPRED, AND DLINPRED_DW?\n",
    "\n",
    "WHAT ARE THE SHAPES AND DIMENSIONS OF GRAD_W? AND GRAD_B?\n",
    "\n",
    "FINALLY, WHAT IS THE SHAPE AND DIMENSIONS OF W AND B? \n"
   ]
  },
  {
   "cell_type": "code",
   "execution_count": 34,
   "metadata": {},
   "outputs": [
    {
     "data": {
      "image/png": "[encoded data removed]",
      "text/plain": [
       "<Figure size 432x288 with 1 Axes>"
      ]
     },
     "metadata": {
      "needs_background": "light"
     },
     "output_type": "display_data"
    }
   ],
   "source": [
    "plt.plot(range(0,len(loss)), loss)\n",
    "plt.title(\"training a perceptron w/ numpy\")\n",
    "plt.xlabel(\"iteration of gradient descent\")\n",
    "plt.ylabel(\"loss function value\")\n",
    "plt.show()"
   ]
  },
  {
   "cell_type": "markdown",
   "metadata": {},
   "source": [
    "### TASK 3\n",
    "\n",
    "The is a slight curve in the start of the gradiant and the values of loss is higher, on seed 88\n",
    "The graph looks the same but  still has higher loss value than the original seed, on seed 244"
   ]
  },
  {
   "cell_type": "markdown",
   "metadata": {},
   "source": [
    "### 2. Simple Perceptron w/ a PyTorch\n",
    "\n",
    "Now we will train a basic perceptron using PyTorch to take advantage of its ability to perform automatic differentation. This allows us to avoid calculating derivatives manually. "
   ]
  },
  {
   "cell_type": "code",
   "execution_count": 38,
   "metadata": {},
   "outputs": [
    {
     "name": "stdout",
     "output_type": "stream",
     "text": [
      "iteration 0: loss = 0.2237, w = 0.3367, b = 0.1288\n",
      "iteration 50: loss = 0.1988, w = 0.4666, b = -0.0841\n",
      "iteration 100: loss = 0.1795, w = 0.5848, b = -0.2693\n",
      "iteration 150: loss = 0.1645, w = 0.6932, b = -0.4298\n",
      "iteration 200: loss = 0.1527, w = 0.7930, b = -0.5701\n",
      "iteration 250: loss = 0.1431, w = 0.8853, b = -0.6940\n",
      "iteration 300: loss = 0.1352, w = 0.9711, b = -0.8050\n",
      "iteration 350: loss = 0.1286, w = 1.0511, b = -0.9054\n",
      "iteration 400: loss = 0.1230, w = 1.1262, b = -0.9972\n",
      "iteration 450: loss = 0.1182, w = 1.1967, b = -1.0818\n",
      "iteration 500: loss = 0.1139, w = 1.2633, b = -1.1605\n",
      "iteration 550: loss = 0.1102, w = 1.3264, b = -1.2341\n",
      "iteration 600: loss = 0.1068, w = 1.3864, b = -1.3033\n",
      "iteration 650: loss = 0.1038, w = 1.4435, b = -1.3686\n",
      "iteration 700: loss = 0.1011, w = 1.4981, b = -1.4306\n",
      "iteration 750: loss = 0.0986, w = 1.5503, b = -1.4896\n",
      "iteration 800: loss = 0.0963, w = 1.6005, b = -1.5460\n",
      "iteration 850: loss = 0.0942, w = 1.6487, b = -1.5999\n",
      "iteration 900: loss = 0.0923, w = 1.6952, b = -1.6517\n",
      "iteration 950: loss = 0.0905, w = 1.7400, b = -1.7015\n",
      "iteration 1000: loss = 0.0888, w = 1.7833, b = -1.7495\n",
      "iteration 1050: loss = 0.0872, w = 1.8253, b = -1.7958\n",
      "iteration 1100: loss = 0.0858, w = 1.8659, b = -1.8407\n",
      "iteration 1150: loss = 0.0844, w = 1.9054, b = -1.8840\n",
      "iteration 1200: loss = 0.0831, w = 1.9437, b = -1.9261\n",
      "iteration 1250: loss = 0.0819, w = 1.9809, b = -1.9670\n",
      "iteration 1300: loss = 0.0807, w = 2.0172, b = -2.0067\n",
      "iteration 1350: loss = 0.0796, w = 2.0525, b = -2.0454\n",
      "iteration 1400: loss = 0.0786, w = 2.0870, b = -2.0830\n",
      "iteration 1450: loss = 0.0776, w = 2.1206, b = -2.1197\n",
      "iteration 1500: loss = 0.0767, w = 2.1535, b = -2.1555\n",
      "iteration 1550: loss = 0.0758, w = 2.1856, b = -2.1905\n",
      "iteration 1600: loss = 0.0749, w = 2.2170, b = -2.2247\n",
      "iteration 1650: loss = 0.0741, w = 2.2477, b = -2.2581\n",
      "iteration 1700: loss = 0.0733, w = 2.2778, b = -2.2908\n",
      "iteration 1750: loss = 0.0725, w = 2.3073, b = -2.3228\n",
      "iteration 1800: loss = 0.0718, w = 2.3362, b = -2.3542\n",
      "iteration 1850: loss = 0.0711, w = 2.3645, b = -2.3849\n",
      "iteration 1900: loss = 0.0704, w = 2.3924, b = -2.4151\n",
      "iteration 1950: loss = 0.0698, w = 2.4197, b = -2.4447\n",
      " w = 2.4465\n",
      " b = -2.4737\n"
     ]
    }
   ],
   "source": [
    "import torch\n",
    "\n",
    "# Randomly initialize weights and other data\n",
    "torch.manual_seed(42)\n",
    "w = torch.randn(1, requires_grad=True)\n",
    "b = torch.randn(1, requires_grad=True)\n",
    "x_tensor = torch.tensor(x)\n",
    "y_tensor = torch.tensor(y)\n",
    "learning_rate = 5e-2\n",
    "losses = []\n",
    "\n",
    "# Carry out gradient descent \n",
    "for i in range(2000):\n",
    "\n",
    "    # Forward pass: compute predicted y\n",
    "    lin_pred = w * x_tensor + b\n",
    "    y_pred = lin_pred.flatten().sigmoid()\n",
    "\n",
    "    # Compute and store loss, and print occassionally \n",
    "    loss = 1/N * (y_tensor - y_pred).pow(2).sum()\n",
    "    losses.append(loss.item())\n",
    "    if i % 50 == 0:\n",
    "        print(f\"iteration {i}: loss = {loss.item():.4f}, w = {w[0]:.4f}, b = {b[0]:.4f}\")\n",
    "\n",
    "    # Backprop using PyTorch's automatic differentiation \n",
    "    loss.backward()\n",
    "\n",
    "    # Update parameters but don't include these calculations as part of underlying computational graph\n",
    "    with torch.no_grad():\n",
    "        w -= learning_rate * w.grad\n",
    "        b -= learning_rate * b.grad\n",
    "\n",
    "    # Reset gradients for next iteration \n",
    "    w.grad.zero_()\n",
    "    b.grad.zero_()\n",
    "\n",
    "print(f\" w = {w.item():.4f}\")\n",
    "print(f\" b = {b.item():.4f}\")"
   ]
  },
  {
   "cell_type": "markdown",
   "metadata": {},
   "source": [
    "### TASK 4\n",
    "\n",
    "The loss is significantly higher with the lower learning rate. It would take about 1300 iteartions to get near .8 and 1900 iterations to get near .7\n"
   ]
  },
  {
   "cell_type": "code",
   "execution_count": 39,
   "metadata": {},
   "outputs": [
    {
     "data": {
      "image/png": "[encoded data removed]",
      "text/plain": [
       "<Figure size 432x288 with 1 Axes>"
      ]
     },
     "metadata": {
      "needs_background": "light"
     },
     "output_type": "display_data"
    }
   ],
   "source": [
    "plt.plot(range(0,len(losses)), losses)\n",
    "plt.title(\"training a perceptron w/ pytorch\")\n",
    "plt.xlabel(\"iteration of gradient descent\")\n",
    "plt.ylabel(\"loss function value\")\n",
    "plt.show()"
   ]
  },
  {
   "cell_type": "markdown",
   "metadata": {},
   "source": [
    "## III. Using PyTorch to Define a Perceptron\n",
    "\n",
    "### 1: A Simple Perceptron using PyTorch\n",
    "\n",
    "Now we will train a basic perceptron using PyTorch to define the model architecture itself, while continuing to take advantage of its automatic differentation. "
   ]
  },
  {
   "cell_type": "code",
   "execution_count": 42,
   "metadata": {},
   "outputs": [
    {
     "name": "stdout",
     "output_type": "stream",
     "text": [
      "iteration 0: loss = 0.6175\n",
      "iteration 50: loss = 0.1192\n",
      "iteration 100: loss = 0.1192\n",
      "iteration 150: loss = 0.1192\n",
      "iteration 200: loss = 0.1192\n",
      "w and b:\n",
      "    0.4805\n",
      "    0.0632\n"
     ]
    }
   ],
   "source": [
    "# Randomly initialize weights and other data\n",
    "torch.manual_seed(42)\n",
    "w = torch.randn(1, requires_grad=True).reshape(1,1)\n",
    "b = torch.randn(1, requires_grad=True).reshape(1,1)\n",
    "x_tensor = torch.tensor(x).float()\n",
    "y_tensor = torch.tensor(y).float().reshape(N, D_out)\n",
    "\n",
    "# Define and declare a pytorch perceptron using sigmoid activation function \n",
    "model = torch.nn.Sequential(\n",
    "    torch.nn.Linear(1, 1),\n",
    "    torch.nn.Tanh()\n",
    ")\n",
    "\n",
    "# Define loss function to be used \n",
    "loss_fn = torch.nn.MSELoss()\n",
    "\n",
    "learning_rate = 5e-1\n",
    "losses = []\n",
    "\n",
    "# Carry out gradient descent \n",
    "for i in range(250):\n",
    "\n",
    "    # Forward pass: compute predicted y\n",
    "    y_pred = model.forward(x_tensor)\n",
    "    \n",
    "    # Compute and store loss, and print occassionally \n",
    "    loss = loss_fn(y_pred, y_tensor)\n",
    "    losses.append(loss.item())\n",
    "    if i % 50 == 0:\n",
    "        print(f\"iteration {i}: loss = {loss.item():.4f}\")\n",
    "\n",
    "    model.zero_grad()\n",
    "\n",
    "    # Backprop using PyTorch's automatic differentiation \n",
    "    loss.backward()\n",
    "\n",
    "    # Update parameters but don't include these calculations as part of underlying computational graph\n",
    "    with torch.no_grad():\n",
    "        for param in model.parameters():\n",
    "            param.data -= learning_rate * param.grad\n",
    "\n",
    "print(\"w and b:\")\n",
    "for param in model.parameters():\n",
    "    print(f\"    {param.item():.4f}\")"
   ]
  },
  {
   "cell_type": "markdown",
   "metadata": {},
   "source": [
    "### TASK 5\n",
    "\n",
    "Iterations after 50 stays constant and from the graph it starts to plateau around 10 iterations. The loss starts twice as high during the first iteration. If there was 25 iterations total and in increments of 5 we could get a better graph and less redundant data.\n",
    "\n",
    "The value of w and b are reduced significantly. I belive this has to do with the Tanh Activation Function being symmetric and the positive and negative values along the origin at 0. Bringing a certain kind of representation of values."
   ]
  },
  {
   "cell_type": "code",
   "execution_count": 43,
   "metadata": {},
   "outputs": [
    {
     "data": {
      "image/png": "[encoded data removed]",
      "text/plain": [
       "<Figure size 432x288 with 1 Axes>"
      ]
     },
     "metadata": {
      "needs_background": "light"
     },
     "output_type": "display_data"
    }
   ],
   "source": [
    "plt.plot(range(0,len(losses)), losses)\n",
    "plt.title(\"training a perceptron as a pytorch model\")\n",
    "plt.xlabel(\"iteration of gradient descent\")\n",
    "plt.ylabel(\"loss function value\")\n",
    "plt.show()"
   ]
  },
  {
   "cell_type": "markdown",
   "metadata": {},
   "source": [
    "### 2. PyTorch Optimizer\n",
    "\n",
    "Now we will train a basic perceptron using PyTorch to define the model itself and also to carry out the optimization steps using stochastic gradient descent (a variant of gradient descent that attempts to avoid getting stuck in a local minima). "
   ]
  },
  {
   "cell_type": "code",
   "execution_count": 52,
   "metadata": {},
   "outputs": [
    {
     "name": "stdout",
     "output_type": "stream",
     "text": [
      "iteration 0: loss = 0.2925\n",
      "iteration 50: loss = 0.1190\n",
      "iteration 100: loss = 0.0907\n",
      "iteration 150: loss = 0.0777\n",
      "w and b estimates:\n",
      "    2.4173\n",
      "    -2.4421\n"
     ]
    }
   ],
   "source": [
    "# Randomly initialize weights and other data\n",
    "torch.manual_seed(42)\n",
    "w = torch.randn(1, requires_grad=True).reshape(1,1)\n",
    "b = torch.randn(1, requires_grad=True).reshape(1,1)\n",
    "x_tensor = torch.tensor(x).float()\n",
    "y_tensor = torch.tensor(y).float().reshape(N, D_out)\n",
    "\n",
    "# Define a Perceptron class \n",
    "#class Perceptron(torch.nn.Module):\n",
    "#    def __init__(self, input_dim):\n",
    "#        super(Perceptron, self).__init__()\n",
    "#        self.lay1 = torch.nn.Linear(input_dim, 1)\n",
    "#        self.act = torch.nn.Sigmoid()\n",
    "#    def forward(self, x):\n",
    "#        output = self.lay1(x)\n",
    "#        output = self.act(output)\n",
    "#        return output\n",
    "\n",
    "# Declare a perceptron instance\n",
    "model = torch.nn.Sequential(\n",
    "    torch.nn.Linear(1, 1),\n",
    "    torch.nn.Sigmoid()\n",
    ")\n",
    "\n",
    "# Define loss function to be used \n",
    "loss_fn = torch.nn.MSELoss()\n",
    "learning_rate = 5e-1\n",
    "optimizer = torch.optim.SGD(model.parameters(), lr=learning_rate)\n",
    "losses = []\n",
    "\n",
    "# Carry out gradient descent \n",
    "for i in range(200):\n",
    "\n",
    "    # Forward pass: compute predicted y\n",
    "    y_pred = model.forward(x_tensor)\n",
    "    \n",
    "    # Compute and store loss, and print occassionally \n",
    "    loss = loss_fn(y_pred, y_tensor)\n",
    "    losses.append(loss.item())\n",
    "    if i % 50 == 0:\n",
    "        print(f\"iteration {i}: loss = {loss.item():.4f}\") #\" w = {w[0]:.4f}, b = {b[0]:.4f}\")\n",
    "\n",
    "    # Zero all gradients before backward pass\n",
    "    optimizer.zero_grad()\n",
    "\n",
    "    # Backprop then call optimizer step to update all (relevant) model parameters\n",
    "    loss.backward()\n",
    "    optimizer.step()\n",
    "\n",
    "print(\"w and b estimates:\")\n",
    "for param in model.parameters():\n",
    "    print(f\"    {param.item():.4f}\")\n"
   ]
  },
  {
   "cell_type": "markdown",
   "metadata": {},
   "source": [
    "### TASK 6\n",
    "\n",
    "Around 15 epochs are needed to reach around 0.05 loss value. \n",
    "\n",
    "The loss has a slower decline in value and would take well over 200 epochs if not 200 epochs to reach 0.05 loss value."
   ]
  },
  {
   "cell_type": "code",
   "execution_count": 53,
   "metadata": {},
   "outputs": [
    {
     "data": {
      "image/png": "[encoded data removed]",
      "text/plain": [
       "<Figure size 432x288 with 1 Axes>"
      ]
     },
     "metadata": {
      "needs_background": "light"
     },
     "output_type": "display_data"
    }
   ],
   "source": [
    "plt.plot(range(0,len(losses)), losses)\n",
    "plt.title(\"training a perceptron as a pytorch model w/ optimizer\")\n",
    "plt.xlabel(\"iteration of gradient descent\")\n",
    "plt.ylabel(\"loss function value\")\n",
    "plt.show()"
   ]
  },
  {
   "cell_type": "markdown",
   "metadata": {},
   "source": [
    "References:\n",
    "* [https://en.wikipedia.org/wiki/Perceptron]()\n",
    "* [https://en.wikipedia.org/wiki/Logistic_regression]()\n",
    "* [https://en.wikipedia.org/wiki/Gradient_descent]()\n",
    "* [https://en.wikipedia.org/wiki/Chain_rule]()\n"
   ]
  }
 ],
 "metadata": {
  "interpreter": {
   "hash": "82f7237e8744fa450af06f16fd99e4f987c4ded027c30bb82e91e6fd7991cebc"
  },
  "kernelspec": {
   "display_name": "Python 3",
   "language": "python",
   "name": "python3"
  },
  "language_info": {
   "codemirror_mode": {
    "name": "ipython",
    "version": 3
   },
   "file_extension": ".py",
   "mimetype": "text/x-python",
   "name": "python",
   "nbconvert_exporter": "python",
   "pygments_lexer": "ipython3",
   "version": "3.8.8"
  }
 },
 "nbformat": 4,
 "nbformat_minor": 2
}
